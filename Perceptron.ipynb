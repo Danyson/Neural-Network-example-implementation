{
  "nbformat": 4,
  "nbformat_minor": 0,
  "metadata": {
    "colab": {
      "name": "Perceptron.ipynb",
      "provenance": [],
      "authorship_tag": "ABX9TyPxyTiMV7fBbNUMYDcD02TY"
    },
    "kernelspec": {
      "name": "python3",
      "display_name": "Python 3"
    }
  },
  "cells": [
    {
      "cell_type": "code",
      "metadata": {
        "id": "ZYKVMx1IYTC0",
        "colab_type": "code",
        "colab": {
          "base_uri": "https://localhost:8080/",
          "height": 51
        },
        "outputId": "12f37f8a-5c36-4433-d9a7-d03e3bcc745e"
      },
      "source": [
        "# Ilustration of decision making using Perceptron\n",
        "import numpy as np\n",
        "\n",
        "x = np.array([1,1,0]) # inputs\n",
        "w = np.array([3,3,3]) # weights\n",
        "threshold = 6\n",
        "bias = 2\n",
        "y = None #output\n",
        "print(f'x = {x} weight = {w} threshold = {threshold} bias = {bias}')\n",
        "\n",
        "\n",
        "\n",
        "if(np.dot(x,w) + bias <= threshold): #activation function inside a conditional statement\n",
        "  y = 0\n",
        "  print(f'y is {y} and possibility not accepted')\n",
        "else:\n",
        "  y = 1\n",
        "  print(f'y is {y} and possibility accepted')\n",
        "\n",
        "\n",
        "    \n",
        "\n"
      ],
      "execution_count": 7,
      "outputs": [
        {
          "output_type": "stream",
          "text": [
            "x = [1 1 0] weight = [3 3 3] threshold = 6 bias = 2\n",
            "y is 1 and possibility accepted\n"
          ],
          "name": "stdout"
        }
      ]
    }
  ]
}