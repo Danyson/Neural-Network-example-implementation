{
  "nbformat": 4,
  "nbformat_minor": 0,
  "metadata": {
    "colab": {
      "name": "Perceptron.ipynb",
      "provenance": [],
      "authorship_tag": "ABX9TyOGm0+c4McHB2mfpjK29h/W"
    },
    "kernelspec": {
      "name": "python3",
      "display_name": "Python 3"
    }
  },
  "cells": [
    {
      "cell_type": "code",
      "metadata": {
        "id": "ZYKVMx1IYTC0",
        "colab_type": "code",
        "colab": {
          "base_uri": "https://localhost:8080/",
          "height": 85
        },
        "outputId": "1626d27e-4da7-4a74-c2cc-27bc175c8c8e"
      },
      "source": [
        "# Ilustration of decision making using Perceptron\n",
        "import numpy as np\n",
        "\n",
        "x = np.array([0,1,1]) # inputs\n",
        "w = np.array([3,8,5]) # weights\n",
        "threshold = 6\n",
        "bias = 2\n",
        "y = None #output\n",
        "limit = 3\n",
        "\n",
        "print(f'x = {x}', f'weight = {w}', f'threshold = {threshold}')\n",
        "\n",
        "for i in range(limit):\n",
        "  if(x[i] * w[i] + bias <= threshold): # checking whether the dot product of input and its weight given a bias results in lesser or equal to threshold\n",
        "    y = 0\n",
        "    print(f'The possiblity not accepted is when x is {x[i]} and weight is {w[i]} with bias as {bias} results in y as {y}')\n",
        "  else:\n",
        "    y = 1\n",
        "    print(f'The possiblity accepted is when x is {x[i]} and weight is {w[i]} with bias as {bias} results in y as {y}')\n",
        "\n",
        "\n",
        "\n"
      ],
      "execution_count": 49,
      "outputs": [
        {
          "output_type": "stream",
          "text": [
            "x = [0 1 1] weight = [3 8 5] threshold = 6\n",
            "The possiblity not accepted is when x is 0 and weight is 3 with bias as 2 results in y as 0\n",
            "The possiblity accepted is when x is 1 and weight is 8 with bias as 2 results in y as 1\n",
            "The possiblity accepted is when x is 1 and weight is 5 with bias as 2 results in y as 1\n"
          ],
          "name": "stdout"
        }
      ]
    }
  ]
}