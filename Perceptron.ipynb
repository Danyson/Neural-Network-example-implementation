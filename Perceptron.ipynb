{
  "nbformat": 4,
  "nbformat_minor": 0,
  "metadata": {
    "colab": {
      "name": "Perceptron.ipynb",
      "provenance": [],
      "authorship_tag": "ABX9TyPpnKy9jaTdpNegTAziz+mF"
    },
    "kernelspec": {
      "name": "python3",
      "display_name": "Python 3"
    }
  },
  "cells": [
    {
      "cell_type": "code",
      "metadata": {
        "id": "ZYKVMx1IYTC0",
        "colab_type": "code",
        "colab": {
          "base_uri": "https://localhost:8080/",
          "height": 85
        },
        "outputId": "9c6fde23-3d51-44e1-f8ff-d3aec325f6dc"
      },
      "source": [
        "# Ilustration of decision making using Perceptron\n",
        "import numpy as np\n",
        "\n",
        "x = np.array([0,1,1]) # inputs\n",
        "w = np.array([3,8,5]) # weights\n",
        "threshold = 6\n",
        "y = None #output\n",
        "limit = 3\n",
        "\n",
        "print(f'x = {x}', f'weight = {w}', f'threshold = {threshold}')\n",
        "\n",
        "for i in range(limit):\n",
        "  if(x[i] + w[i] <= threshold): # checking the sum of input and its weight lesser or equal to threshold\n",
        "    y = 0\n",
        "    print(f'The possiblity not accepted is when x is {x[i]} and weight is {w[i]} thus y is {y}')\n",
        "  else:\n",
        "    y = 1\n",
        "    print(f'The possiblity accepted is when x is {x[i]} and weight is {w[i]} thus y is {y}')\n",
        "\n",
        "\n",
        "\n"
      ],
      "execution_count": 46,
      "outputs": [
        {
          "output_type": "stream",
          "text": [
            "x = [0 1 1] weight = [3 8 5] threshold = 6\n",
            "The possiblity not accepted is when x is 0 and weight is 3 thus y is 0\n",
            "The possiblity accepted is when x is 1 and weight is 8 thus y is 1\n",
            "The possiblity not accepted is when x is 1 and weight is 5 thus y is 0\n"
          ],
          "name": "stdout"
        }
      ]
    }
  ]
}