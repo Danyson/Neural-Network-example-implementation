{
  "nbformat": 4,
  "nbformat_minor": 0,
  "metadata": {
    "colab": {
      "name": "Perceptron.ipynb",
      "provenance": [],
      "authorship_tag": "ABX9TyOpcpxE96hSpSBmWe+n4Nv1"
    },
    "kernelspec": {
      "name": "python3",
      "display_name": "Python 3"
    }
  },
  "cells": [
    {
      "cell_type": "code",
      "metadata": {
        "id": "ZYKVMx1IYTC0",
        "colab_type": "code",
        "colab": {
          "base_uri": "https://localhost:8080/",
          "height": 51
        },
        "outputId": "6e38f437-6378-43d7-8856-12aa097bdaf3"
      },
      "source": [
        "# Ilustration of decision making using Perceptron\n",
        "import numpy as np\n",
        "\n",
        "x = np.array([0,1,1]) # inputs\n",
        "w = np.array([3,8,5]) # weights\n",
        "threshold = 6\n",
        "bias = 2\n",
        "y = None #output\n",
        "limit = 3\n",
        "out = 0\n",
        "print(f'x = {x}', f'weight = {w}', f'threshold = {threshold}')\n",
        "\n",
        "for i in range(limit):\n",
        "  out = x[i] * w[i] + out\n",
        "\n",
        "if(out + bias <= threshold):\n",
        "  y = 0\n",
        "  print(f'y is {y} and possibility not accepted')\n",
        "else:\n",
        "  y = 1\n",
        "  print(f'y is {y} and possibility accepted')\n",
        "\n",
        "\n",
        "    \n",
        "\n"
      ],
      "execution_count": 51,
      "outputs": [
        {
          "output_type": "stream",
          "text": [
            "x = [0 1 1] weight = [3 8 5] threshold = 6\n",
            "y is 1 and possibility accepted\n"
          ],
          "name": "stdout"
        }
      ]
    }
  ]
}