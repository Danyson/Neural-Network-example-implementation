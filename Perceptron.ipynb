{
  "nbformat": 4,
  "nbformat_minor": 0,
  "metadata": {
    "colab": {
      "name": "Perceptron.ipynb",
      "provenance": [],
      "authorship_tag": "ABX9TyOjOtFs08A3J8M81BsK6eZF"
    },
    "kernelspec": {
      "name": "python3",
      "display_name": "Python 3"
    }
  },
  "cells": [
    {
      "cell_type": "code",
      "metadata": {
        "id": "ZYKVMx1IYTC0",
        "colab_type": "code",
        "colab": {
          "base_uri": "https://localhost:8080/",
          "height": 51
        },
        "outputId": "8328daaa-9a85-4f75-c7e6-816b151920c6"
      },
      "source": [
        "# Ilustration of decision making using Perceptron\n",
        "import numpy as np\n",
        "\n",
        "x = np.array([0,1,1]) # inputs\n",
        "w = np.array([3,8,5]) # weights\n",
        "threshold = 6\n",
        "bias = 2\n",
        "y = None #output\n",
        "limit = 3\n",
        "activation = 0\n",
        "print(f'x = {x} weight = {w} threshold = {threshold} bias = {bias}')\n",
        "\n",
        "for i in range(limit):\n",
        "  activation = x[i] * w[i] + activation\n",
        "\n",
        "if(activation + bias <= threshold):\n",
        "  y = 0\n",
        "  print(f'y is {y} and possibility not accepted')\n",
        "else:\n",
        "  y = 1\n",
        "  print(f'y is {y} and possibility accepted')\n",
        "\n",
        "\n",
        "    \n",
        "\n"
      ],
      "execution_count": 53,
      "outputs": [
        {
          "output_type": "stream",
          "text": [
            "x = [0 1 1] weight = [3 8 5] threshold = 6 bias = 2\n",
            "y is 1 and possibility accepted\n"
          ],
          "name": "stdout"
        }
      ]
    }
  ]
}