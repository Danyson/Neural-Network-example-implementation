{
  "nbformat": 4,
  "nbformat_minor": 0,
  "metadata": {
    "colab": {
      "name": "sigmoid_neuron.ipynb",
      "provenance": [],
      "authorship_tag": "ABX9TyOOs9DGuQ+FlvF0Wm2gU9w/"
    },
    "kernelspec": {
      "name": "python3",
      "display_name": "Python 3"
    }
  },
  "cells": [
    {
      "cell_type": "code",
      "metadata": {
        "id": "kdDzLVoENuEZ",
        "colab_type": "code",
        "colab": {
          "base_uri": "https://localhost:8080/",
          "height": 68
        },
        "outputId": "b3d93ac5-8c14-4f33-886e-fa7a3c75ecae"
      },
      "source": [
        "import numpy as np \n",
        "\n",
        "# input data\n",
        "inputs = np.array([1, 1, 1])\n",
        "weights = np.array([2,3,2])\n",
        "\n",
        "# create Sigmoid Neuron class\n",
        "class SigmoidNeuron:  \n",
        "  #activation function ==> S(z) = 1/1+e^(-z)\n",
        "  def sigmoid(self, z):\n",
        "    expOfNegZ = np.exp(-z)\n",
        "    print(f'exp of -z is {expOfNegZ}')\n",
        "    return 1 / (1 + expOfNegZ)\n",
        "\n",
        "sigmoidNeuron = SigmoidNeuron()\n",
        "z = np.dot(inputs, weights) # dot product of two vectors, respectively inputs and weights\n",
        "print(f'z is {z}')\n",
        "print(f'sigmoid Neuron output is {sigmoidNeuron.sigmoid(z)}')"
      ],
      "execution_count": 19,
      "outputs": [
        {
          "output_type": "stream",
          "text": [
            "z is 7\n",
            "exp of -z is 0.0009118819655545162\n",
            "sigmoid Neuron output is 0.9990889488055994\n"
          ],
          "name": "stdout"
        }
      ]
    }
  ]
}