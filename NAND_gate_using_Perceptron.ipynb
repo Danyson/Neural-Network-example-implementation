{
  "nbformat": 4,
  "nbformat_minor": 0,
  "metadata": {
    "colab": {
      "name": "NAND gate using Perceptron.ipynb",
      "provenance": [],
      "authorship_tag": "ABX9TyMvJg8IBeIk31tASsyg0gAs"
    },
    "kernelspec": {
      "name": "python3",
      "display_name": "Python 3"
    }
  },
  "cells": [
    {
      "cell_type": "code",
      "metadata": {
        "id": "h65SxC2AprV7",
        "colab_type": "code",
        "colab": {
          "base_uri": "https://localhost:8080/",
          "height": 51
        },
        "outputId": "fe9dcddf-bb28-4b2b-8768-57f361673e87"
      },
      "source": [
        "# Ilustration of NAND gate using Perceptron\n",
        "import numpy as np\n",
        "\n",
        "x = np.array([1,0]) # inputs\n",
        "w = np.array([-2,-2]) # weights\n",
        "bias = 3\n",
        "threshold = 0\n",
        "y = None #output\n",
        "\n",
        "print(f'x = {x} weight = {w} with bias {bias} and threshold as {threshold} ')\n",
        "\n",
        "if(np.dot(x, w) + bias <= threshold): # NAND gate activation function\n",
        "  y = 0\n",
        "  print(f'output y is {y}')\n",
        "else:\n",
        "  y = 1\n",
        "  print(f'output y is {y}')\n"
      ],
      "execution_count": 5,
      "outputs": [
        {
          "output_type": "stream",
          "text": [
            "x = [1 0] weight = [-2 -2] with bias 3 and threshold as 0 \n",
            "output y is 1\n"
          ],
          "name": "stdout"
        }
      ]
    }
  ]
}