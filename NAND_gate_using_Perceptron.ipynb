{
  "nbformat": 4,
  "nbformat_minor": 0,
  "metadata": {
    "colab": {
      "name": "NAND gate using Perceptron.ipynb",
      "provenance": [],
      "authorship_tag": "ABX9TyOy557UNSdxre6vSZJZ+fPY"
    },
    "kernelspec": {
      "name": "python3",
      "display_name": "Python 3"
    }
  },
  "cells": [
    {
      "cell_type": "code",
      "metadata": {
        "id": "h65SxC2AprV7",
        "colab_type": "code",
        "colab": {
          "base_uri": "https://localhost:8080/",
          "height": 51
        },
        "outputId": "01dbe7af-389c-4ee4-a2f6-661a7d43bea8"
      },
      "source": [
        "# Ilustration of NAND gate using Perceptron\n",
        "import numpy as np\n",
        "\n",
        "x = np.array([1,1]) # inputs\n",
        "w = np.array([-2,-2]) # weights\n",
        "bias = 3\n",
        "threshold = 0\n",
        "y = None #output\n",
        "\n",
        "print(f'x = {x} weight = {w} with bias {bias} and threshold as {threshold} ')\n",
        "\n",
        "if(((x[0] * w[0]) + (x[1] * w[1])) + bias <= threshold): # NAND gate activation function\n",
        "  y = 0\n",
        "  print(f'output y is {y}')\n",
        "else:\n",
        "  y = 1\n",
        "  print(f'output y is {y}')\n"
      ],
      "execution_count": 5,
      "outputs": [
        {
          "output_type": "stream",
          "text": [
            "x = [1 1] weight = [-2 -2] with bias 3 and threshold as 0 \n",
            "output y is 0\n"
          ],
          "name": "stdout"
        }
      ]
    }
  ]
}