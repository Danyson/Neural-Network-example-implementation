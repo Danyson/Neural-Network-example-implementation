{
  "nbformat": 4,
  "nbformat_minor": 0,
  "metadata": {
    "colab": {
      "name": "NAND gate using Perceptron.ipynb",
      "provenance": [],
      "authorship_tag": "ABX9TyMxzsKRo21pfRxwnpZH+jtV"
    },
    "kernelspec": {
      "name": "python3",
      "display_name": "Python 3"
    }
  },
  "cells": [
    {
      "cell_type": "code",
      "metadata": {
        "id": "h65SxC2AprV7",
        "colab_type": "code",
        "colab": {
          "base_uri": "https://localhost:8080/",
          "height": 51
        },
        "outputId": "6e650b16-de6b-475b-e9d6-d50cb4728d72"
      },
      "source": [
        "# Ilustration of NAND gate using Perceptron\n",
        "import numpy as np\n",
        "\n",
        "x = np.array([0,0]) # inputs\n",
        "w = np.array([-2,-2]) # weights\n",
        "bias = 3\n",
        "threshold = 1\n",
        "y = None #output\n",
        "\n",
        "print(f'x = {x} weight = {w} with bias {bias} and threshold as {threshold} ')\n",
        "\n",
        "if(((x[0] * w[0]) + (x[1] * w[1])) + bias >= threshold): # NAND gate activation function\n",
        "  y = 1\n",
        "  print(f'output y is {y}')\n",
        "else:\n",
        "  y = 0\n",
        "  print(f'output y is {y}')\n"
      ],
      "execution_count": 40,
      "outputs": [
        {
          "output_type": "stream",
          "text": [
            "x = [0 0] weight = [-2 -2] with bias 3 and threshold as 1 \n",
            "output y is 1\n"
          ],
          "name": "stdout"
        }
      ]
    }
  ]
}